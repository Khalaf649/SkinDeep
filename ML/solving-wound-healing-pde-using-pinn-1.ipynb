{
 "cells": [
  {
   "cell_type": "markdown",
   "id": "9fbf740a",
   "metadata": {
    "papermill": {
     "duration": 0.003376,
     "end_time": "2025-06-14T19:16:57.132358",
     "exception": false,
     "start_time": "2025-06-14T19:16:57.128982",
     "status": "completed"
    },
    "tags": []
   },
   "source": [
    "# 🧬 Solving the Wound Healing PDE Using Physics-Informed Neural Networks (PINNs)\n",
    "\n",
    "## 📌 Objective\n",
    "\n",
    "This notebook focuses on solving the **Fisher-Kolmogorov equation**, a reaction-diffusion partial differential equation (PDE) widely used to model **cell migration and proliferation** in biological processes such as wound healing.\n",
    "\n",
    "The equation has the form:\n",
    "\n",
    "$$\n",
    "\\frac{\\partial u}{\\partial t} = D \\frac{\\partial}{\\partial r} \\left( \\left(1 - \\frac{u}{u_0} \\right)^p \\frac{\\partial u}{\\partial r} \\right) + s_c u \\left(1 - \\frac{u}{u_0} \\right)\n",
    "$$\n",
    "\n",
    "\n",
    "Where:\n",
    "\n",
    "- \\( u(r, t) \\): cell density at radial position \\( r \\) and time \\( t \\)\n",
    "- \\( D \\): diffusion coefficient\n",
    "- \\( s \\): scaling factor for the source term\n",
    "- \\( p \\): proliferation rate\n",
    "- \\( r \\): radial coordinate\n",
    "- \\( t \\): time\n",
    "\n",
    "---\n",
    "\n",
    "## 🧠 Why Physics-Informed Neural Networks (PINNs)?\n",
    "\n",
    "Traditional PDE solvers require discretization of space and time, which can be expensive and inflexible. **PINNs** integrate the **physical laws (PDEs)** directly into the training process of a neural network, enabling:\n",
    "\n",
    "- Generalization across initial and boundary conditions\n",
    "- Continuous solution without mesh\n",
    "- Better handling of sparse and noisy data\n",
    "\n",
    "---\n",
    "\n",
    "## ⚙️ Workflow Summary\n",
    "\n",
    "The steps followed in this notebook are:\n",
    "\n",
    "1. **Import dependencies** and required libraries.\n",
    "2. **Load the dataset** representing simulation or experimental data from wound healing.\n",
    "3. **Normalize the inputs and outputs** for more effective training.\n",
    "4. **Split the data** into training and testing sets.\n",
    "5. **Define the PINN architecture** using TensorFlow.\n",
    "6. **Set up the PDE residual** to guide the neural network via physics constraints.\n",
    "7. **Train the PINN** to fit the data while minimizing both data and PDE loss.\n",
    "8. **Visualize the results** to evaluate how well the PINN approximates the PDE solution.\n",
    "\n",
    "This approach blends machine learning with classical physics to provide a flexible and robust method for solving biological PDEs.\n"
   ]
  },
  {
   "cell_type": "code",
   "execution_count": 1,
   "id": "4cdd5f51",
   "metadata": {
    "_cell_guid": "b1076dfc-b9ad-4769-8c92-a6c4dae69d19",
    "_uuid": "8f2839f25d086af736a60e9eeb907d3b93b6e0e5",
    "execution": {
     "iopub.execute_input": "2025-06-14T19:16:57.138777Z",
     "iopub.status.busy": "2025-06-14T19:16:57.138478Z",
     "iopub.status.idle": "2025-06-14T19:17:12.230976Z",
     "shell.execute_reply": "2025-06-14T19:17:12.230038Z"
    },
    "papermill": {
     "duration": 15.09706,
     "end_time": "2025-06-14T19:17:12.232288",
     "exception": false,
     "start_time": "2025-06-14T19:16:57.135228",
     "status": "completed"
    },
    "tags": []
   },
   "outputs": [
    {
     "name": "stderr",
     "output_type": "stream",
     "text": [
      "2025-06-14 19:17:00.098897: E external/local_xla/xla/stream_executor/cuda/cuda_fft.cc:477] Unable to register cuFFT factory: Attempting to register factory for plugin cuFFT when one has already been registered\n",
      "WARNING: All log messages before absl::InitializeLog() is called are written to STDERR\n",
      "E0000 00:00:1749928620.282160      19 cuda_dnn.cc:8310] Unable to register cuDNN factory: Attempting to register factory for plugin cuDNN when one has already been registered\n",
      "E0000 00:00:1749928620.336193      19 cuda_blas.cc:1418] Unable to register cuBLAS factory: Attempting to register factory for plugin cuBLAS when one has already been registered\n"
     ]
    },
    {
     "name": "stdout",
     "output_type": "stream",
     "text": [
      "/kaggle/input/wound-healing/wound_healing_nn_data.csv\n"
     ]
    }
   ],
   "source": [
    "import warnings\n",
    "warnings.filterwarnings('ignore')\n",
    "import numpy as np # linear algebra\n",
    "import pandas as pd # data processing, CSV file I/O (e.g. pd.read_csv)\n",
    "import os\n",
    "import tensorflow as tf \n",
    "import matplotlib.pyplot as plt\n",
    "for dirname, _, filenames in os.walk('/kaggle/input'):\n",
    "    for filename in filenames:\n",
    "        print(os.path.join(dirname, filename))"
   ]
  },
  {
   "cell_type": "markdown",
   "id": "55c060b2",
   "metadata": {
    "papermill": {
     "duration": 0.002548,
     "end_time": "2025-06-14T19:17:12.237778",
     "exception": false,
     "start_time": "2025-06-14T19:17:12.235230",
     "status": "completed"
    },
    "tags": []
   },
   "source": [
    "### 📄 Loading Dataset\n",
    "\n",
    "This cell loads the wound healing data from a CSV file. The dataset includes:\n",
    "\n",
    "- Spatial (`r`) and temporal (`t`) coordinates,\n",
    "- Diffusion coefficient `D`,\n",
    "- Source term scaling `sc`,\n",
    "- Proliferation rate `p`,\n",
    "- Initial condition `u0`, and\n",
    "- Target solution `u`.\n",
    "\n"
   ]
  },
  {
   "cell_type": "code",
   "execution_count": 2,
   "id": "6e7e612d",
   "metadata": {
    "execution": {
     "iopub.execute_input": "2025-06-14T19:17:12.244324Z",
     "iopub.status.busy": "2025-06-14T19:17:12.243400Z",
     "iopub.status.idle": "2025-06-14T19:17:12.288249Z",
     "shell.execute_reply": "2025-06-14T19:17:12.287451Z"
    },
    "papermill": {
     "duration": 0.04929,
     "end_time": "2025-06-14T19:17:12.289538",
     "exception": false,
     "start_time": "2025-06-14T19:17:12.240248",
     "status": "completed"
    },
    "tags": []
   },
   "outputs": [
    {
     "data": {
      "text/html": [
       "<div>\n",
       "<style scoped>\n",
       "    .dataframe tbody tr th:only-of-type {\n",
       "        vertical-align: middle;\n",
       "    }\n",
       "\n",
       "    .dataframe tbody tr th {\n",
       "        vertical-align: top;\n",
       "    }\n",
       "\n",
       "    .dataframe thead th {\n",
       "        text-align: right;\n",
       "    }\n",
       "</style>\n",
       "<table border=\"1\" class=\"dataframe\">\n",
       "  <thead>\n",
       "    <tr style=\"text-align: right;\">\n",
       "      <th></th>\n",
       "      <th>case</th>\n",
       "      <th>r</th>\n",
       "      <th>t</th>\n",
       "      <th>u</th>\n",
       "      <th>r0</th>\n",
       "      <th>u0</th>\n",
       "      <th>D</th>\n",
       "      <th>sc</th>\n",
       "      <th>p</th>\n",
       "    </tr>\n",
       "  </thead>\n",
       "  <tbody>\n",
       "    <tr>\n",
       "      <th>0</th>\n",
       "      <td>1</td>\n",
       "      <td>0.285</td>\n",
       "      <td>27.0</td>\n",
       "      <td>9.971926e-01</td>\n",
       "      <td>0.5</td>\n",
       "      <td>1.0</td>\n",
       "      <td>2.000000e-09</td>\n",
       "      <td>0.000008</td>\n",
       "      <td>0</td>\n",
       "    </tr>\n",
       "    <tr>\n",
       "      <th>1</th>\n",
       "      <td>3</td>\n",
       "      <td>0.070</td>\n",
       "      <td>18.0</td>\n",
       "      <td>7.000000e-02</td>\n",
       "      <td>0.5</td>\n",
       "      <td>1.0</td>\n",
       "      <td>2.000000e-09</td>\n",
       "      <td>0.000008</td>\n",
       "      <td>5</td>\n",
       "    </tr>\n",
       "    <tr>\n",
       "      <th>2</th>\n",
       "      <td>3</td>\n",
       "      <td>0.470</td>\n",
       "      <td>0.0</td>\n",
       "      <td>0.000000e+00</td>\n",
       "      <td>0.5</td>\n",
       "      <td>1.0</td>\n",
       "      <td>2.000000e-09</td>\n",
       "      <td>0.000008</td>\n",
       "      <td>5</td>\n",
       "    </tr>\n",
       "    <tr>\n",
       "      <th>3</th>\n",
       "      <td>3</td>\n",
       "      <td>0.240</td>\n",
       "      <td>15.0</td>\n",
       "      <td>2.400000e-01</td>\n",
       "      <td>0.5</td>\n",
       "      <td>1.0</td>\n",
       "      <td>2.000000e-09</td>\n",
       "      <td>0.000008</td>\n",
       "      <td>5</td>\n",
       "    </tr>\n",
       "    <tr>\n",
       "      <th>4</th>\n",
       "      <td>0</td>\n",
       "      <td>0.165</td>\n",
       "      <td>3.0</td>\n",
       "      <td>5.411432e-07</td>\n",
       "      <td>0.5</td>\n",
       "      <td>1.0</td>\n",
       "      <td>2.000000e-09</td>\n",
       "      <td>0.000000</td>\n",
       "      <td>0</td>\n",
       "    </tr>\n",
       "  </tbody>\n",
       "</table>\n",
       "</div>"
      ],
      "text/plain": [
       "   case      r     t             u   r0   u0             D        sc  p\n",
       "0     1  0.285  27.0  9.971926e-01  0.5  1.0  2.000000e-09  0.000008  0\n",
       "1     3  0.070  18.0  7.000000e-02  0.5  1.0  2.000000e-09  0.000008  5\n",
       "2     3  0.470   0.0  0.000000e+00  0.5  1.0  2.000000e-09  0.000008  5\n",
       "3     3  0.240  15.0  2.400000e-01  0.5  1.0  2.000000e-09  0.000008  5\n",
       "4     0  0.165   3.0  5.411432e-07  0.5  1.0  2.000000e-09  0.000000  0"
      ]
     },
     "execution_count": 2,
     "metadata": {},
     "output_type": "execute_result"
    }
   ],
   "source": [
    "df = pd.read_csv(r'/kaggle/input/wound-healing/wound_healing_nn_data.csv')\n",
    "df.head()"
   ]
  },
  {
   "cell_type": "markdown",
   "id": "3d6fa88d",
   "metadata": {
    "papermill": {
     "duration": 0.002572,
     "end_time": "2025-06-14T19:17:12.295161",
     "exception": false,
     "start_time": "2025-06-14T19:17:12.292589",
     "status": "completed"
    },
    "tags": []
   },
   "source": [
    "### 🔄 Preprocessing and Scaling\n",
    "\n",
    "This cell performs normalization using `MinMaxScaler` on the features:\n",
    "\n",
    "- Scales spatial and temporal coordinates (`r`, `t`), diffusion (`D`), source coefficient (`sc`), and proliferation rate (`p`).\n",
    "- Retains the initial condition `u0` and appends it between scaled inputs.\n",
    "- Also normalizes the target solution `u` for stable training.\n",
    "\n",
    "All scaled data is combined into `Input_scaled` for model input.\n"
   ]
  },
  {
   "cell_type": "code",
   "execution_count": 3,
   "id": "8d14961c",
   "metadata": {
    "execution": {
     "iopub.execute_input": "2025-06-14T19:17:12.301512Z",
     "iopub.status.busy": "2025-06-14T19:17:12.301276Z",
     "iopub.status.idle": "2025-06-14T19:17:12.340613Z",
     "shell.execute_reply": "2025-06-14T19:17:12.340101Z"
    },
    "papermill": {
     "duration": 0.044114,
     "end_time": "2025-06-14T19:17:12.342051",
     "exception": false,
     "start_time": "2025-06-14T19:17:12.297937",
     "status": "completed"
    },
    "tags": []
   },
   "outputs": [],
   "source": [
    "from sklearn.preprocessing import MinMaxScaler\n",
    "\n",
    "cols_to_scale = ['r', 't', 'D', 'sc', 'p']\n",
    "u0 = df[['u0']].values \n",
    "to_scale = df[cols_to_scale].values\n",
    "\n",
    "Input_scaler = MinMaxScaler()\n",
    "scaled = Input_scaler.fit_transform(to_scale)\n",
    "\n",
    "Input_scaled = np.concatenate([scaled[:, :2], u0, scaled[:, 2:]], axis=1)\n",
    "\n",
    "u = df['u'].values.reshape(-1, 1)\n",
    "u_scaler = MinMaxScaler()\n",
    "u_scaled = u_scaler.fit_transform(u)\n"
   ]
  },
  {
   "cell_type": "code",
   "execution_count": 4,
   "id": "1b01b9ba",
   "metadata": {
    "execution": {
     "iopub.execute_input": "2025-06-14T19:17:12.348913Z",
     "iopub.status.busy": "2025-06-14T19:17:12.348643Z",
     "iopub.status.idle": "2025-06-14T19:17:12.435023Z",
     "shell.execute_reply": "2025-06-14T19:17:12.434316Z"
    },
    "papermill": {
     "duration": 0.091065,
     "end_time": "2025-06-14T19:17:12.436379",
     "exception": false,
     "start_time": "2025-06-14T19:17:12.345314",
     "status": "completed"
    },
    "tags": []
   },
   "outputs": [],
   "source": [
    "from sklearn.model_selection import train_test_split\n",
    "input_train, input_test, u_train, u_test = train_test_split(Input_scaled, u_scaled, test_size=0.2, random_state=42)\n"
   ]
  },
  {
   "cell_type": "markdown",
   "id": "a8cc072b",
   "metadata": {
    "papermill": {
     "duration": 0.002717,
     "end_time": "2025-06-14T19:17:12.442208",
     "exception": false,
     "start_time": "2025-06-14T19:17:12.439491",
     "status": "completed"
    },
    "tags": []
   },
   "source": [
    "### 🔁 Converting to Tensors\n",
    "\n",
    "The NumPy arrays for training and testing data are converted into TensorFlow tensors to be used for model training and evaluation.\n"
   ]
  },
  {
   "cell_type": "code",
   "execution_count": 5,
   "id": "18a034c1",
   "metadata": {
    "execution": {
     "iopub.execute_input": "2025-06-14T19:17:12.448566Z",
     "iopub.status.busy": "2025-06-14T19:17:12.448346Z",
     "iopub.status.idle": "2025-06-14T19:17:13.659360Z",
     "shell.execute_reply": "2025-06-14T19:17:13.658512Z"
    },
    "papermill": {
     "duration": 1.215724,
     "end_time": "2025-06-14T19:17:13.660654",
     "exception": false,
     "start_time": "2025-06-14T19:17:12.444930",
     "status": "completed"
    },
    "tags": []
   },
   "outputs": [
    {
     "name": "stderr",
     "output_type": "stream",
     "text": [
      "I0000 00:00:1749928633.622802      19 gpu_device.cc:2022] Created device /job:localhost/replica:0/task:0/device:GPU:0 with 15513 MB memory:  -> device: 0, name: Tesla P100-PCIE-16GB, pci bus id: 0000:00:04.0, compute capability: 6.0\n"
     ]
    }
   ],
   "source": [
    "input_train_tf = tf.convert_to_tensor(input_train, dtype=tf.float32)\n",
    "input_test_tf = tf.convert_to_tensor(input_test, dtype=tf.float32)\n",
    "u_train_tf = tf.convert_to_tensor(u_train, dtype=tf.float32)\n",
    "u_test_tf = tf.convert_to_tensor(u_test, dtype=tf.float32)"
   ]
  },
  {
   "cell_type": "markdown",
   "id": "d8e8e3e5",
   "metadata": {
    "papermill": {
     "duration": 0.002608,
     "end_time": "2025-06-14T19:17:13.666303",
     "exception": false,
     "start_time": "2025-06-14T19:17:13.663695",
     "status": "completed"
    },
    "tags": []
   },
   "source": [
    "### 🧠 Defining and Training the PINN\n",
    "\n",
    "This block defines the **Physics-Informed Neural Network (PINN)** using TensorFlow's Keras API. It includes:\n",
    "\n",
    "- A deep feedforward architecture with ReLU activations, batch normalization, and dropout for regularization.\n",
    "- A custom `physics_loss` function that encodes the Fisher-Kolmogorov PDE:\n",
    "  - Computes gradients with respect to `r` and `t` using `tf.GradientTape`.\n",
    "  - Constructs PDE residual using the differential terms and model output.\n",
    "  - Adds positivity and upper-bound constraints to maintain physical plausibility.\n",
    "\n",
    "#### Training Stages:\n",
    "1. **Stage 1 - Data Fit**: The model is first trained to minimize the data loss alone.\n",
    "2. **Stage 2 - PINN Training**: Adds physics loss using the PDE residual.\n",
    "3. **Stage 3 - Fine-Tuning**: Reduces physics weight to refine the prediction and maintain smoothness.\n"
   ]
  },
  {
   "cell_type": "code",
   "execution_count": 6,
   "id": "17352910",
   "metadata": {
    "execution": {
     "iopub.execute_input": "2025-06-14T19:17:13.673482Z",
     "iopub.status.busy": "2025-06-14T19:17:13.672856Z",
     "iopub.status.idle": "2025-06-14T19:26:04.147952Z",
     "shell.execute_reply": "2025-06-14T19:26:04.147076Z"
    },
    "papermill": {
     "duration": 530.483133,
     "end_time": "2025-06-14T19:26:04.152297",
     "exception": false,
     "start_time": "2025-06-14T19:17:13.669164",
     "status": "completed"
    },
    "tags": []
   },
   "outputs": [
    {
     "name": "stdout",
     "output_type": "stream",
     "text": [
      "\n",
      "Stage 1: Data-only training...\n",
      "[Data Phase] Epoch 0, Data Loss: 3.668322\n",
      "[Data Phase] Epoch 200, Data Loss: 0.004067\n",
      "[Data Phase] Epoch 400, Data Loss: 0.002271\n",
      "[Data Phase] Epoch 600, Data Loss: 0.001528\n",
      "[Data Phase] Epoch 800, Data Loss: 0.001168\n",
      "\n",
      "Stage 2: Physics-informed training...\n",
      "[Physics Phase] Epoch 0, Data Loss: 0.001115, Physics Loss: 0.207930, Weight: 0.000\n",
      "[Physics Phase] Epoch 200, Data Loss: 0.001167, Physics Loss: 0.001720, Weight: 0.400\n",
      "[Physics Phase] Epoch 400, Data Loss: 0.001508, Physics Loss: 0.000937, Weight: 0.800\n",
      "Early stopping at epoch 501\n",
      "\n",
      "Stage 3: Fine-tuning...\n",
      "[Fine-tune] Epoch 0, Data Loss: 0.001027, Physics Loss: 0.000502\n",
      "[Fine-tune] Epoch 100, Data Loss: 0.000987, Physics Loss: 0.000479\n",
      "[Fine-tune] Epoch 200, Data Loss: 0.000904, Physics Loss: 0.000480\n",
      "[Fine-tune] Epoch 300, Data Loss: 0.000891, Physics Loss: 0.000417\n",
      "[Fine-tune] Epoch 400, Data Loss: 0.000880, Physics Loss: 0.000394\n",
      "Training completed!\n"
     ]
    }
   ],
   "source": [
    "import tensorflow as tf\n",
    "\n",
    "class PINN(tf.keras.Model):\n",
    "    def __init__(self):\n",
    "        super(PINN, self).__init__()\n",
    "        self.dense1 = tf.keras.layers.Dense(256, activation='relu', \n",
    "                                          kernel_initializer='glorot_normal')\n",
    "        self.dense2 = tf.keras.layers.Dense(256, activation='relu',\n",
    "                                          kernel_initializer='glorot_normal')\n",
    "        self.dense3 = tf.keras.layers.Dense(256, activation='relu',\n",
    "                                          kernel_initializer='glorot_normal')\n",
    "        self.dense4 = tf.keras.layers.Dense(128, activation='relu',\n",
    "                                          kernel_initializer='glorot_normal')\n",
    "        \n",
    "        self.output_layer = tf.keras.layers.Dense(1, kernel_initializer='glorot_normal')\n",
    "        \n",
    "        self.bn1 = tf.keras.layers.BatchNormalization()\n",
    "        self.bn2 = tf.keras.layers.BatchNormalization()\n",
    "        self.bn3 = tf.keras.layers.BatchNormalization()\n",
    "        \n",
    "        self.dropout1 = tf.keras.layers.Dropout(0.1)\n",
    "        self.dropout2 = tf.keras.layers.Dropout(0.1)\n",
    "    \n",
    "    def call(self, inputs, training=False):\n",
    "        x = inputs        \n",
    "        x = self.dense1(x)\n",
    "        x = self.bn1(x, training=training)\n",
    "        x = self.dropout1(x, training=training)\n",
    "        \n",
    "        x = self.dense2(x)\n",
    "        x = self.bn2(x, training=training)\n",
    "        x = self.dropout2(x, training=training)\n",
    "        \n",
    "        x = self.dense3(x)\n",
    "        x = self.bn3(x, training=training)\n",
    "        \n",
    "        x = self.dense4(x)\n",
    "        output = self.output_layer(x)\n",
    "        \n",
    "        return output\n",
    "\n",
    "def physics_loss(model, inputs):\n",
    "    r = inputs[:, 0:1]\n",
    "    t = inputs[:, 1:2]\n",
    "    u0 = inputs[:, 2:3]\n",
    "    D = inputs[:, 3:4]\n",
    "    sc = inputs[:, 4:5]\n",
    "    p = inputs[:, 5:6]\n",
    "    \n",
    "    eps = 1e-8\n",
    "    u0_safe = tf.maximum(tf.abs(u0), eps)\n",
    "    D_safe = tf.maximum(tf.abs(D), eps)\n",
    "    \n",
    "    r_var = tf.Variable(r, trainable=False)\n",
    "    t_var = tf.Variable(t, trainable=False)\n",
    "    \n",
    "    with tf.GradientTape(persistent=True) as tape1:\n",
    "        tape1.watch([r_var, t_var])\n",
    "        \n",
    "        with tf.GradientTape(persistent=True) as tape2:\n",
    "            tape2.watch([r_var, t_var])            \n",
    "            inputs_watched = tf.concat([r_var, t_var, u0, D, sc, p], axis=1)            \n",
    "            u_pred = model(inputs_watched, training=True)\n",
    "        u_r = tape2.gradient(u_pred, r_var)\n",
    "        u_t = tape2.gradient(u_pred, t_var)\n",
    "        del tape2    \n",
    "    u_rr = tape1.gradient(u_r, r_var) if u_r is not None else None\n",
    "    del tape1\n",
    "    u_r = tf.zeros_like(r) if u_r is None else u_r\n",
    "    u_t = tf.zeros_like(t) if u_t is None else u_t\n",
    "    u_rr = tf.zeros_like(r) if u_rr is None else u_rr\n",
    "    \n",
    "    u_ratio = u_pred / u0_safe\n",
    "    ratio_term = tf.maximum(1.0 - u_ratio, eps)\n",
    "    \n",
    "    growth_term = sc * u_pred * (1.0 - u_ratio)\n",
    "    \n",
    "    power_term = tf.pow(ratio_term, p)\n",
    "    power_term_p_minus_1 = tf.pow(ratio_term, tf.maximum(p - 1, eps))\n",
    "    \n",
    "    D1 = D_safe * power_term * u_rr\n",
    "    D2 = tf.square(u_r) * p * D_safe * power_term_p_minus_1 * (-1.0 / u0_safe)\n",
    "    \n",
    "    # PDE: u_t = growth_term + D1 + D2\n",
    "    pde_residual = u_t - growth_term - D1 - D2\n",
    "    \n",
    "    pde_loss = tf.reduce_mean(tf.square(pde_residual))\n",
    "    \n",
    "    positivity_loss = tf.reduce_mean(tf.square(tf.minimum(u_pred, 0.0)))\n",
    "    upper_bound_loss = tf.reduce_mean(tf.square(tf.maximum(u_pred - 2.0 * u0_safe, 0.0)))\n",
    "    \n",
    "    total_physics_loss = pde_loss + 0.1 * positivity_loss + 0.1 * upper_bound_loss\n",
    "    \n",
    "    return total_physics_loss\n",
    "\n",
    "model = PINN()\n",
    "\n",
    "print(\"\\nStage 1: Data-only training...\")\n",
    "optimizer1 = tf.keras.optimizers.Adam(learning_rate=0.001)\n",
    "for epoch in range(1000):\n",
    "    with tf.GradientTape() as tape:\n",
    "        pred = model(input_train_tf, training=True)\n",
    "        data_loss = tf.reduce_mean(tf.square(pred - u_train_tf))\n",
    "        total_loss = data_loss\n",
    "    \n",
    "    grads = tape.gradient(total_loss, model.trainable_variables)\n",
    "    grads = [tf.clip_by_norm(grad, 1.0) if grad is not None else grad for grad in grads]\n",
    "    optimizer1.apply_gradients(zip(grads, model.trainable_variables))\n",
    "    \n",
    "    if epoch % 200 == 0:\n",
    "        print(f\"[Data Phase] Epoch {epoch}, Data Loss: {data_loss.numpy():.6f}\")\n",
    "\n",
    "print(\"\\nStage 2: Physics-informed training...\")\n",
    "optimizer2 = tf.keras.optimizers.Adam(learning_rate=0.0005)\n",
    "best_loss = float('inf')\n",
    "patience = 0\n",
    "max_patience = 500\n",
    "\n",
    "for epoch in range(2000):\n",
    "    with tf.GradientTape() as tape:\n",
    "        pred = model(input_train_tf, training=True)\n",
    "        data_loss = tf.reduce_mean(tf.square(pred - u_train_tf))\n",
    "        \n",
    "        # Use original inputs for physics loss\n",
    "        phys_loss = physics_loss(model, input_train_tf)\n",
    "        \n",
    "        # Adaptive weighting\n",
    "        physics_weight = min(1.0, epoch / 500.0)  # Gradually increase physics weight\n",
    "        total_loss = data_loss + physics_weight * phys_loss\n",
    "    \n",
    "    grads = tape.gradient(total_loss, model.trainable_variables)\n",
    "    grads = [tf.clip_by_norm(grad, 1.0) if grad is not None else grad for grad in grads]\n",
    "    optimizer2.apply_gradients(zip(grads, model.trainable_variables))\n",
    "    \n",
    "    # Early stopping\n",
    "    if total_loss < best_loss:\n",
    "        best_loss = total_loss\n",
    "        patience = 0\n",
    "    else:\n",
    "        patience += 1\n",
    "    \n",
    "    if epoch % 200 == 0:\n",
    "        print(f\"[Physics Phase] Epoch {epoch}, Data Loss: {data_loss.numpy():.6f}, \"\n",
    "              f\"Physics Loss: {phys_loss.numpy():.6f}, Weight: {physics_weight:.3f}\")\n",
    "    \n",
    "    if patience > max_patience:\n",
    "        print(f\"Early stopping at epoch {epoch}\")\n",
    "        break\n",
    "    \n",
    "    if total_loss < 0.0001:\n",
    "        print(\"Converged!\")\n",
    "        break\n",
    "\n",
    "print(\"\\nStage 3: Fine-tuning...\")\n",
    "optimizer3 = tf.keras.optimizers.Adam(learning_rate=0.0001)\n",
    "for epoch in range(500):\n",
    "    with tf.GradientTape() as tape:\n",
    "        pred = model(input_train_tf, training=True)\n",
    "        data_loss = tf.reduce_mean(tf.square(pred - u_train_tf))\n",
    "        phys_loss = physics_loss(model, input_train_tf)\n",
    "        total_loss = data_loss + 0.5 * phys_loss  # Reduced physics weight for fine-tuning\n",
    "    \n",
    "    grads = tape.gradient(total_loss, model.trainable_variables)\n",
    "    grads = [tf.clip_by_norm(grad, 0.5) if grad is not None else grad for grad in grads]\n",
    "    optimizer3.apply_gradients(zip(grads, model.trainable_variables))\n",
    "    \n",
    "    if epoch % 100 == 0:\n",
    "        print(f\"[Fine-tune] Epoch {epoch}, Data Loss: {data_loss.numpy():.6f}, \"\n",
    "              f\"Physics Loss: {phys_loss.numpy():.6f}\")\n",
    "\n",
    "print(\"Training completed!\")"
   ]
  },
  {
   "cell_type": "markdown",
   "id": "84074bce",
   "metadata": {
    "papermill": {
     "duration": 0.00343,
     "end_time": "2025-06-14T19:26:04.159296",
     "exception": false,
     "start_time": "2025-06-14T19:26:04.155866",
     "status": "completed"
    },
    "tags": []
   },
   "source": [
    "### 📈 Evaluation and Diagnostics\n",
    "\n",
    "This cell evaluates the trained PINN model on the test set:\n",
    "\n",
    "- Computes **Mean Squared Error (MSE)** and **Mean Absolute Error (MAE)**.\n",
    "- Calculates the **coefficient of determination \\( R^2 \\)** to quantify prediction accuracy.\n",
    "- Prints ranges and means of predictions vs. ground truth to assess generalization and bias.\n"
   ]
  },
  {
   "cell_type": "code",
   "execution_count": 7,
   "id": "cb482f0e",
   "metadata": {
    "execution": {
     "iopub.execute_input": "2025-06-14T19:26:04.167399Z",
     "iopub.status.busy": "2025-06-14T19:26:04.166908Z",
     "iopub.status.idle": "2025-06-14T19:26:04.191487Z",
     "shell.execute_reply": "2025-06-14T19:26:04.190621Z"
    },
    "papermill": {
     "duration": 0.02987,
     "end_time": "2025-06-14T19:26:04.192587",
     "exception": false,
     "start_time": "2025-06-14T19:26:04.162717",
     "status": "completed"
    },
    "tags": []
   },
   "outputs": [
    {
     "name": "stdout",
     "output_type": "stream",
     "text": [
      "\n",
      "Test Results:\n",
      "Test MSE: 0.000171\n",
      "Test MAE: 0.008170\n",
      "Test R²: 0.9314\n",
      "\n",
      "Diagnostic Info:\n",
      "Prediction range: [0.7406, 1.0248]\n",
      "True values range: [0.8709, 1.0000]\n",
      "Mean prediction: 0.9138\n",
      "Mean true value: 0.9112\n"
     ]
    }
   ],
   "source": [
    "u_pred = model(input_test_tf)\n",
    "\n",
    "# Test the model on the test split\n",
    "test_loss = tf.reduce_mean(tf.square(u_pred - u_test_tf))\n",
    "test_mae = tf.reduce_mean(tf.abs(u_pred - u_test_tf))\n",
    "\n",
    "print(f\"\\nTest Results:\")\n",
    "print(f\"Test MSE: {test_loss.numpy():.6f}\")\n",
    "print(f\"Test MAE: {test_mae.numpy():.6f}\")\n",
    "\n",
    "# Calculate R-squared\n",
    "ss_res = tf.reduce_sum(tf.square(u_test_tf - u_pred))\n",
    "ss_tot = tf.reduce_sum(tf.square(u_test_tf - tf.reduce_mean(u_test_tf)))\n",
    "r2_score = 1 - (ss_res / ss_tot)\n",
    "print(f\"Test R²: {r2_score.numpy():.4f}\")\n",
    "\n",
    "# Additional diagnostic information\n",
    "print(f\"\\nDiagnostic Info:\")\n",
    "print(f\"Prediction range: [{tf.reduce_min(u_pred).numpy():.4f}, {tf.reduce_max(u_pred).numpy():.4f}]\")\n",
    "print(f\"True values range: [{tf.reduce_min(u_test_tf).numpy():.4f}, {tf.reduce_max(u_test_tf).numpy():.4f}]\")\n",
    "print(f\"Mean prediction: {tf.reduce_mean(u_pred).numpy():.4f}\")\n",
    "print(f\"Mean true value: {tf.reduce_mean(u_test_tf).numpy():.4f}\")"
   ]
  },
  {
   "cell_type": "code",
   "execution_count": 8,
   "id": "e677b932",
   "metadata": {
    "execution": {
     "iopub.execute_input": "2025-06-14T19:26:04.200452Z",
     "iopub.status.busy": "2025-06-14T19:26:04.200236Z",
     "iopub.status.idle": "2025-06-14T19:26:04.444654Z",
     "shell.execute_reply": "2025-06-14T19:26:04.443991Z"
    },
    "papermill": {
     "duration": 0.250175,
     "end_time": "2025-06-14T19:26:04.446230",
     "exception": false,
     "start_time": "2025-06-14T19:26:04.196055",
     "status": "completed"
    },
    "tags": []
   },
   "outputs": [
    {
     "data": {
      "image/png": "[encoded data removed]",
      "text/plain": [
       "<Figure size 600x600 with 1 Axes>"
      ]
     },
     "metadata": {},
     "output_type": "display_data"
    }
   ],
   "source": [
    "y_pred = u_scaler.inverse_transform(u_pred)\n",
    "y_test_original = u_scaler.inverse_transform(u_test)\n",
    "\n",
    "plt.figure(figsize=(6,6))\n",
    "plt.scatter(y_test_original, y_pred, alpha=0.5)\n",
    "plt.xlabel(\"Actual u\")\n",
    "plt.ylabel(\"Predicted u\")\n",
    "plt.title(\"Predicted vs Actual\")\n",
    "plt.grid(True)\n",
    "plt.plot([0,1],[0,1], 'r--')\n",
    "plt.show()"
   ]
  },
  {
   "cell_type": "code",
   "execution_count": null,
   "id": "5478dd9a",
   "metadata": {
    "papermill": {
     "duration": 0.004299,
     "end_time": "2025-06-14T19:26:04.455552",
     "exception": false,
     "start_time": "2025-06-14T19:26:04.451253",
     "status": "completed"
    },
    "tags": []
   },
   "outputs": [],
   "source": []
  }
 ],
 "metadata": {
  "kaggle": {
   "accelerator": "gpu",
   "dataSources": [
    {
     "datasetId": 7648036,
     "sourceId": 12143417,
     "sourceType": "datasetVersion"
    }
   ],
   "isGpuEnabled": true,
   "isInternetEnabled": true,
   "language": "python",
   "sourceType": "notebook"
  },
  "kernelspec": {
   "display_name": "Python 3",
   "language": "python",
   "name": "python3"
  },
  "language_info": {
   "codemirror_mode": {
    "name": "ipython",
    "version": 3
   },
   "file_extension": ".py",
   "mimetype": "text/x-python",
   "name": "python",
   "nbconvert_exporter": "python",
   "pygments_lexer": "ipython3",
   "version": "3.11.11"
  },
  "papermill": {
   "default_parameters": {},
   "duration": 554.451004,
   "end_time": "2025-06-14T19:26:07.505175",
   "environment_variables": {},
   "exception": null,
   "input_path": "__notebook__.ipynb",
   "output_path": "__notebook__.ipynb",
   "parameters": {},
   "start_time": "2025-06-14T19:16:53.054171",
   "version": "2.6.0"
  }
 },
 "nbformat": 4,
 "nbformat_minor": 5
}
